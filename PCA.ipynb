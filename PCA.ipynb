{
  "nbformat": 4,
  "nbformat_minor": 0,
  "metadata": {
    "colab": {
      "provenance": [],
      "authorship_tag": "ABX9TyMRGAJuQJrZVgbakCQLeCUS",
      "include_colab_link": true
    },
    "kernelspec": {
      "name": "python3",
      "display_name": "Python 3"
    },
    "language_info": {
      "name": "python"
    }
  },
  "cells": [
    {
      "cell_type": "markdown",
      "metadata": {
        "id": "view-in-github",
        "colab_type": "text"
      },
      "source": [
        "<a href=\"https://colab.research.google.com/github/SwethaSrikari/Math/blob/main/PCA.ipynb\" target=\"_parent\"><img src=\"https://colab.research.google.com/assets/colab-badge.svg\" alt=\"Open In Colab\"/></a>"
      ]
    },
    {
      "cell_type": "markdown",
      "source": [
        "# **Math behind scikit-learn PCA.transform() and PCA.inverse_transform()**"
      ],
      "metadata": {
        "id": "eaxGvHy-k0ry"
      }
    },
    {
      "cell_type": "code",
      "execution_count": 1,
      "metadata": {
        "id": "cpzoHyowIip6"
      },
      "outputs": [],
      "source": [
        "import numpy as np\n",
        "import pandas as pd\n",
        "import sklearn"
      ]
    },
    {
      "cell_type": "markdown",
      "source": [
        "Dataset X with 6 samples and 3 features - `6 x 3`"
      ],
      "metadata": {
        "id": "HSRq_9S7JhGx"
      }
    },
    {
      "cell_type": "code",
      "source": [
        "X = np.array([[-1, -1, 4], [-2, -1, 6], [-3, -2, 4], [1, 1, 5], [2, 1, 7], [3, 2, 6]])\n",
        "X"
      ],
      "metadata": {
        "colab": {
          "base_uri": "https://localhost:8080/"
        },
        "id": "1oqlVdHGI7UP",
        "outputId": "0f2598b5-cf3e-4762-f011-93c72ce0ef36"
      },
      "execution_count": 2,
      "outputs": [
        {
          "output_type": "execute_result",
          "data": {
            "text/plain": [
              "array([[-1, -1,  4],\n",
              "       [-2, -1,  6],\n",
              "       [-3, -2,  4],\n",
              "       [ 1,  1,  5],\n",
              "       [ 2,  1,  7],\n",
              "       [ 3,  2,  6]])"
            ]
          },
          "metadata": {},
          "execution_count": 2
        }
      ]
    },
    {
      "cell_type": "markdown",
      "source": [
        "Standardization ``` (x_i - x̄) / σ ``` where x̄ is the mean of the feature and σ is the standard deviation of the feature"
      ],
      "metadata": {
        "id": "Ybp2r8pMJxLa"
      }
    },
    {
      "cell_type": "code",
      "source": [
        "# Method 1\n",
        "print('Mean', X.mean(0))\n",
        "print('Standard deviation', X.std(0))\n",
        "X_std = (X - X.mean(0)) / X.std(0) "
      ],
      "metadata": {
        "colab": {
          "base_uri": "https://localhost:8080/"
        },
        "id": "ADiTX7rTJgb1",
        "outputId": "60613fa0-a187-40b4-dc9d-220fd5d122e7"
      },
      "execution_count": 3,
      "outputs": [
        {
          "output_type": "stream",
          "name": "stdout",
          "text": [
            "Mean [0.         0.         5.33333333]\n",
            "Standard deviation [2.1602469  1.41421356 1.1055416 ]\n"
          ]
        }
      ]
    },
    {
      "cell_type": "code",
      "source": [
        "# Method 2\n",
        "from sklearn.preprocessing import StandardScaler\n",
        "std_scaler = StandardScaler()\n",
        "X_scalar = std_scaler.fit(X)\n",
        "\n",
        "print('Mean', X_scalar.mean_)\n",
        "print('Standard deviation', np.sqrt(X_scalar.var_))"
      ],
      "metadata": {
        "colab": {
          "base_uri": "https://localhost:8080/"
        },
        "id": "XHikKaseJVE1",
        "outputId": "6ba35a6a-dfb7-43f5-bcab-90719e7dd1d6"
      },
      "execution_count": 4,
      "outputs": [
        {
          "output_type": "stream",
          "name": "stdout",
          "text": [
            "Mean [0.         0.         5.33333333]\n",
            "Standard deviation [2.1602469  1.41421356 1.1055416 ]\n"
          ]
        }
      ]
    },
    {
      "cell_type": "markdown",
      "source": [
        "## Step 1 - Calculate the covariance matrix of the features\n",
        "```\n",
        "1 / (n-1) ∑(x_i - x̄) (y_i - ȳ)\n",
        "```"
      ],
      "metadata": {
        "id": "GGbJkdN_Mbch"
      }
    },
    {
      "cell_type": "code",
      "source": [
        "# Method 1\n",
        "def covariance(x, y):\n",
        "  \"\"\"\n",
        "  Calculate covariance between to variables x, y - Cov(x,y)\n",
        "  \"\"\"\n",
        "  x_mean = x.mean()\n",
        "  y_mean = y.mean()\n",
        "  n = len(x)\n",
        "  cov = np.sum((x - x_mean) * (y - y_mean)) / (n-1)\n",
        "  return cov\n",
        "\n",
        "def covariance_matrix(data):\n",
        "  \"\"\"\n",
        "  Returns a covariance matrix\n",
        "  :params data: is a numpy array\n",
        "  \"\"\"\n",
        "  n = data.shape[1]\n",
        "  cov_matrix = np.zeros((n, n))\n",
        "  for i in range(n):\n",
        "    for j in range(n):\n",
        "      cov_matrix[i,j] = covariance(data[:, i], data[:, j])\n",
        "\n",
        "  return cov_matrix\n",
        "\n",
        "cov_matrix_X = covariance_matrix(X)\n",
        "cov_matrix_X"
      ],
      "metadata": {
        "colab": {
          "base_uri": "https://localhost:8080/"
        },
        "id": "34OtW51KK6jq",
        "outputId": "eeb1cec9-0f1f-4bbd-dd9e-75d1715ac93a"
      },
      "execution_count": 5,
      "outputs": [
        {
          "output_type": "execute_result",
          "data": {
            "text/plain": [
              "array([[5.6       , 3.6       , 1.8       ],\n",
              "       [3.6       , 2.4       , 1.2       ],\n",
              "       [1.8       , 1.2       , 1.46666667]])"
            ]
          },
          "metadata": {},
          "execution_count": 5
        }
      ]
    },
    {
      "cell_type": "code",
      "source": [
        "# Method 2\n",
        "np.cov(X.T)"
      ],
      "metadata": {
        "colab": {
          "base_uri": "https://localhost:8080/"
        },
        "id": "4bYcHhGaLy0K",
        "outputId": "4eae42ac-938a-46bc-9608-28867268be00"
      },
      "execution_count": 6,
      "outputs": [
        {
          "output_type": "execute_result",
          "data": {
            "text/plain": [
              "array([[5.6       , 3.6       , 1.8       ],\n",
              "       [3.6       , 2.4       , 1.2       ],\n",
              "       [1.8       , 1.2       , 1.46666667]])"
            ]
          },
          "metadata": {},
          "execution_count": 6
        }
      ]
    },
    {
      "cell_type": "markdown",
      "source": [
        "## Step 2 - Calculate eigen values and eigen vectors for the variance matrix"
      ],
      "metadata": {
        "id": "I0ib9T5TRYRe"
      }
    },
    {
      "cell_type": "code",
      "source": [
        "from numpy import linalg as la\n",
        "\n",
        "e_values, e_vectors = la.eig(cov_matrix_X)\n",
        "\n",
        "print('Eigen values of covariance matrix of X', e_values)\n",
        "print('Eigen vectors of covariance matrix of X', e_vectors)"
      ],
      "metadata": {
        "colab": {
          "base_uri": "https://localhost:8080/"
        },
        "id": "xK2pzZFpS36e",
        "outputId": "c99fae91-e650-4a8b-cc1d-7a04cf3a8a3a"
      },
      "execution_count": 9,
      "outputs": [
        {
          "output_type": "stream",
          "name": "stdout",
          "text": [
            "Eigen values of covariance matrix of X [8.595911   0.05966683 0.81108883]\n",
            "Eigen vectors of covariance matrix of X [[-0.80189901 -0.53745805 -0.26095368]\n",
            " [-0.52216088  0.84271483 -0.13107144]\n",
            " [-0.29035494 -0.03115374  0.95641176]]\n"
          ]
        }
      ]
    },
    {
      "cell_type": "markdown",
      "source": [
        "## Step 3 - Select the prinicipal components based on the ranking of the eigen values. The eigen vector with the highest eigen value is the first principal component - with the maximum variance (captures more info than the rest)"
      ],
      "metadata": {
        "id": "RmTQSopbX-dS"
      }
    },
    {
      "cell_type": "code",
      "source": [
        "# Creating a feature vector by arranging eigen vectors in descending order of eigen values\n",
        "order = np.argsort(e_values)[::-1]"
      ],
      "metadata": {
        "id": "8fqdmRc0a33a"
      },
      "execution_count": 10,
      "outputs": []
    },
    {
      "cell_type": "code",
      "source": [
        "feature_vector = e_vectors.T[order,:]\n",
        "feature_vector = feature_vector.T"
      ],
      "metadata": {
        "id": "eujbMxpabffT"
      },
      "execution_count": 11,
      "outputs": []
    },
    {
      "cell_type": "markdown",
      "source": [
        "Using sklearn PCA"
      ],
      "metadata": {
        "id": "cS6QxEdSYaWM"
      }
    },
    {
      "cell_type": "code",
      "source": [
        "from sklearn.decomposition import PCA\n",
        "\n",
        "pca = PCA()\n",
        "pca.fit(X)"
      ],
      "metadata": {
        "colab": {
          "base_uri": "https://localhost:8080/",
          "height": 75
        },
        "id": "zhTvJD_RTIUs",
        "outputId": "37b6db61-4631-4dd3-dfa1-82c2a4454cd8"
      },
      "execution_count": 12,
      "outputs": [
        {
          "output_type": "execute_result",
          "data": {
            "text/plain": [
              "PCA()"
            ],
            "text/html": [
              "<style>#sk-container-id-1 {color: black;background-color: white;}#sk-container-id-1 pre{padding: 0;}#sk-container-id-1 div.sk-toggleable {background-color: white;}#sk-container-id-1 label.sk-toggleable__label {cursor: pointer;display: block;width: 100%;margin-bottom: 0;padding: 0.3em;box-sizing: border-box;text-align: center;}#sk-container-id-1 label.sk-toggleable__label-arrow:before {content: \"▸\";float: left;margin-right: 0.25em;color: #696969;}#sk-container-id-1 label.sk-toggleable__label-arrow:hover:before {color: black;}#sk-container-id-1 div.sk-estimator:hover label.sk-toggleable__label-arrow:before {color: black;}#sk-container-id-1 div.sk-toggleable__content {max-height: 0;max-width: 0;overflow: hidden;text-align: left;background-color: #f0f8ff;}#sk-container-id-1 div.sk-toggleable__content pre {margin: 0.2em;color: black;border-radius: 0.25em;background-color: #f0f8ff;}#sk-container-id-1 input.sk-toggleable__control:checked~div.sk-toggleable__content {max-height: 200px;max-width: 100%;overflow: auto;}#sk-container-id-1 input.sk-toggleable__control:checked~label.sk-toggleable__label-arrow:before {content: \"▾\";}#sk-container-id-1 div.sk-estimator input.sk-toggleable__control:checked~label.sk-toggleable__label {background-color: #d4ebff;}#sk-container-id-1 div.sk-label input.sk-toggleable__control:checked~label.sk-toggleable__label {background-color: #d4ebff;}#sk-container-id-1 input.sk-hidden--visually {border: 0;clip: rect(1px 1px 1px 1px);clip: rect(1px, 1px, 1px, 1px);height: 1px;margin: -1px;overflow: hidden;padding: 0;position: absolute;width: 1px;}#sk-container-id-1 div.sk-estimator {font-family: monospace;background-color: #f0f8ff;border: 1px dotted black;border-radius: 0.25em;box-sizing: border-box;margin-bottom: 0.5em;}#sk-container-id-1 div.sk-estimator:hover {background-color: #d4ebff;}#sk-container-id-1 div.sk-parallel-item::after {content: \"\";width: 100%;border-bottom: 1px solid gray;flex-grow: 1;}#sk-container-id-1 div.sk-label:hover label.sk-toggleable__label {background-color: #d4ebff;}#sk-container-id-1 div.sk-serial::before {content: \"\";position: absolute;border-left: 1px solid gray;box-sizing: border-box;top: 0;bottom: 0;left: 50%;z-index: 0;}#sk-container-id-1 div.sk-serial {display: flex;flex-direction: column;align-items: center;background-color: white;padding-right: 0.2em;padding-left: 0.2em;position: relative;}#sk-container-id-1 div.sk-item {position: relative;z-index: 1;}#sk-container-id-1 div.sk-parallel {display: flex;align-items: stretch;justify-content: center;background-color: white;position: relative;}#sk-container-id-1 div.sk-item::before, #sk-container-id-1 div.sk-parallel-item::before {content: \"\";position: absolute;border-left: 1px solid gray;box-sizing: border-box;top: 0;bottom: 0;left: 50%;z-index: -1;}#sk-container-id-1 div.sk-parallel-item {display: flex;flex-direction: column;z-index: 1;position: relative;background-color: white;}#sk-container-id-1 div.sk-parallel-item:first-child::after {align-self: flex-end;width: 50%;}#sk-container-id-1 div.sk-parallel-item:last-child::after {align-self: flex-start;width: 50%;}#sk-container-id-1 div.sk-parallel-item:only-child::after {width: 0;}#sk-container-id-1 div.sk-dashed-wrapped {border: 1px dashed gray;margin: 0 0.4em 0.5em 0.4em;box-sizing: border-box;padding-bottom: 0.4em;background-color: white;}#sk-container-id-1 div.sk-label label {font-family: monospace;font-weight: bold;display: inline-block;line-height: 1.2em;}#sk-container-id-1 div.sk-label-container {text-align: center;}#sk-container-id-1 div.sk-container {/* jupyter's `normalize.less` sets `[hidden] { display: none; }` but bootstrap.min.css set `[hidden] { display: none !important; }` so we also need the `!important` here to be able to override the default hidden behavior on the sphinx rendered scikit-learn.org. See: https://github.com/scikit-learn/scikit-learn/issues/21755 */display: inline-block !important;position: relative;}#sk-container-id-1 div.sk-text-repr-fallback {display: none;}</style><div id=\"sk-container-id-1\" class=\"sk-top-container\"><div class=\"sk-text-repr-fallback\"><pre>PCA()</pre><b>In a Jupyter environment, please rerun this cell to show the HTML representation or trust the notebook. <br />On GitHub, the HTML representation is unable to render, please try loading this page with nbviewer.org.</b></div><div class=\"sk-container\" hidden><div class=\"sk-item\"><div class=\"sk-estimator sk-toggleable\"><input class=\"sk-toggleable__control sk-hidden--visually\" id=\"sk-estimator-id-1\" type=\"checkbox\" checked><label for=\"sk-estimator-id-1\" class=\"sk-toggleable__label sk-toggleable__label-arrow\">PCA</label><div class=\"sk-toggleable__content\"><pre>PCA()</pre></div></div></div></div></div>"
            ]
          },
          "metadata": {},
          "execution_count": 12
        }
      ]
    },
    {
      "cell_type": "code",
      "source": [
        "# Gives the eigen values calculated from the covariance matrix of X\n",
        "pca.explained_variance_"
      ],
      "metadata": {
        "colab": {
          "base_uri": "https://localhost:8080/"
        },
        "id": "esN2BDbEXag3",
        "outputId": "7ab42d77-83eb-4ecd-9a13-d09e1bb082fa"
      },
      "execution_count": 13,
      "outputs": [
        {
          "output_type": "execute_result",
          "data": {
            "text/plain": [
              "array([8.595911  , 0.81108883, 0.05966683])"
            ]
          },
          "metadata": {},
          "execution_count": 13
        }
      ]
    },
    {
      "cell_type": "code",
      "source": [
        "# Gives the percentage of variance explained by each principle component\n",
        "pca.explained_variance_ratio_"
      ],
      "metadata": {
        "colab": {
          "base_uri": "https://localhost:8080/"
        },
        "id": "Ei0XGX7UXeiN",
        "outputId": "a5cb9d8e-78d0-4d50-c783-1aeb908d74db"
      },
      "execution_count": 14,
      "outputs": [
        {
          "output_type": "execute_result",
          "data": {
            "text/plain": [
              "array([0.90801877, 0.0856784 , 0.00630283])"
            ]
          },
          "metadata": {},
          "execution_count": 14
        }
      ]
    },
    {
      "cell_type": "code",
      "source": [
        "# Covariance matrix calculated using n-1\n",
        "pca.get_covariance()"
      ],
      "metadata": {
        "colab": {
          "base_uri": "https://localhost:8080/"
        },
        "id": "d6zzEqQdZPQK",
        "outputId": "595a4f69-9178-4c01-d3cd-2ab24487cde9"
      },
      "execution_count": 15,
      "outputs": [
        {
          "output_type": "execute_result",
          "data": {
            "text/plain": [
              "array([[5.6       , 3.6       , 1.8       ],\n",
              "       [3.6       , 2.4       , 1.2       ],\n",
              "       [1.8       , 1.2       , 1.46666667]])"
            ]
          },
          "metadata": {},
          "execution_count": 15
        }
      ]
    },
    {
      "cell_type": "markdown",
      "source": [
        "## Step 4 - Recast the data along the principal component axes\n",
        "\n",
        "```\n",
        "Transformed dataset = [X - X̄] * feature_vector\n",
        "```"
      ],
      "metadata": {
        "id": "c79IOLbhaYFT"
      }
    },
    {
      "cell_type": "code",
      "source": [
        "# Method 1\n",
        "transformed_data = np.dot(X - X.mean(0), feature_vector)\n",
        "print(transformed_data)\n",
        "\n",
        "# Method 2\n",
        "# np.matmul(X - X.mean(0), feature_vector)\n",
        "\n",
        "# Method 3\n",
        "# np.dot(X - pca.mean_, pca.components_.T)"
      ],
      "metadata": {
        "colab": {
          "base_uri": "https://localhost:8080/"
        },
        "id": "2UnBOQNScdFv",
        "outputId": "34393126-c575-4176-d117-7ea3edc72fd0"
      },
      "execution_count": 16,
      "outputs": [
        {
          "output_type": "stream",
          "name": "stdout",
          "text": [
            "[[ 1.71119981 -0.88319056 -0.26371846]\n",
            " [ 1.93238895  1.29058664  0.21143211]\n",
            " [ 3.83715871 -0.23021177 -0.03151719]\n",
            " [-1.22727492 -0.71082904  0.31564136]\n",
            " [-2.6098838   0.94104081 -0.28412417]\n",
            " [-3.64358876 -0.40739607  0.05228635]]\n"
          ]
        }
      ]
    },
    {
      "cell_type": "code",
      "source": [
        "# Method 4 - Using PCA\n",
        "pca.transform(X)"
      ],
      "metadata": {
        "colab": {
          "base_uri": "https://localhost:8080/"
        },
        "id": "zx10GgpEZ1h2",
        "outputId": "17387aef-b40b-424c-f3b5-7b7b38410d53"
      },
      "execution_count": 18,
      "outputs": [
        {
          "output_type": "execute_result",
          "data": {
            "text/plain": [
              "array([[ 1.71119981, -0.88319056, -0.26371846],\n",
              "       [ 1.93238895,  1.29058664,  0.21143211],\n",
              "       [ 3.83715871, -0.23021177, -0.03151719],\n",
              "       [-1.22727492, -0.71082904,  0.31564136],\n",
              "       [-2.6098838 ,  0.94104081, -0.28412417],\n",
              "       [-3.64358876, -0.40739607,  0.05228635]])"
            ]
          },
          "metadata": {},
          "execution_count": 18
        }
      ]
    },
    {
      "cell_type": "markdown",
      "source": [
        "## Reconstructing original data from prinicipal components\n",
        "\n",
        "```\n",
        "X = inv(feature_vector) * transformed_data + X̄\n",
        "```"
      ],
      "metadata": {
        "id": "8lxRF55ng7rv"
      }
    },
    {
      "cell_type": "code",
      "source": [
        "# Method 1 - using PCA inverse_transform\n",
        "pca.inverse_transform(transformed_data)"
      ],
      "metadata": {
        "colab": {
          "base_uri": "https://localhost:8080/"
        },
        "id": "nE-naxoncsIV",
        "outputId": "e32c6a96-a52d-4ab1-c290-7df0e92aa004"
      },
      "execution_count": 40,
      "outputs": [
        {
          "output_type": "execute_result",
          "data": {
            "text/plain": [
              "array([[-1., -1.,  4.],\n",
              "       [-2., -1.,  6.],\n",
              "       [-3., -2.,  4.],\n",
              "       [ 1.,  1.,  5.],\n",
              "       [ 2.,  1.,  7.],\n",
              "       [ 3.,  2.,  6.]])"
            ]
          },
          "metadata": {},
          "execution_count": 40
        }
      ]
    },
    {
      "cell_type": "code",
      "source": [
        "# Method 2\n",
        "fv_inv = la.inv(feature_vector)\n",
        "\n",
        "np.dot(transformed_data, feature_vector.T) + X.mean(0)"
      ],
      "metadata": {
        "colab": {
          "base_uri": "https://localhost:8080/"
        },
        "id": "4N4cvsOMczWF",
        "outputId": "7a386b73-5a6e-4048-b837-4f786a97300a"
      },
      "execution_count": 41,
      "outputs": [
        {
          "output_type": "execute_result",
          "data": {
            "text/plain": [
              "array([[-1., -1.,  4.],\n",
              "       [-2., -1.,  6.],\n",
              "       [-3., -2.,  4.],\n",
              "       [ 1.,  1.,  5.],\n",
              "       [ 2.,  1.,  7.],\n",
              "       [ 3.,  2.,  6.]])"
            ]
          },
          "metadata": {},
          "execution_count": 41
        }
      ]
    },
    {
      "cell_type": "markdown",
      "source": [
        "## Test on handwritten digits dataset"
      ],
      "metadata": {
        "id": "MSfQs3UkjalL"
      }
    },
    {
      "cell_type": "code",
      "source": [
        "import matplotlib.pyplot as plt\n",
        "from sklearn.datasets import load_digits\n",
        "\n",
        "data = load_digits()\n",
        "\n",
        "plt.imshow(data.images[0])"
      ],
      "metadata": {
        "colab": {
          "base_uri": "https://localhost:8080/",
          "height": 448
        },
        "id": "qc_433b-jt4e",
        "outputId": "16f5c4da-3567-4c97-b47e-74385cdd43d4"
      },
      "execution_count": 48,
      "outputs": [
        {
          "output_type": "execute_result",
          "data": {
            "text/plain": [
              "<matplotlib.image.AxesImage at 0x7fb61a335780>"
            ]
          },
          "metadata": {},
          "execution_count": 48
        },
        {
          "output_type": "display_data",
          "data": {
            "text/plain": [
              "<Figure size 640x480 with 1 Axes>"
            ],
            "image/png": "[encoded data removed]"
          },
          "metadata": {}
        }
      ]
    },
    {
      "cell_type": "code",
      "source": [
        "_, axs = plt.subplots(1, 8, figsize=(12, 12))\n",
        "axs = axs.flatten()\n",
        "for i, ax in zip(range(8,0,-1), axs):\n",
        "  pca = PCA(n_components=i)\n",
        "  transformed_data = pca.fit_transform(data.images[0])\n",
        "  original = pca.inverse_transform(transformed_data)\n",
        "  ax.imshow(original)\n",
        "  ax.title.set_text(f'n_comp={i}')\n",
        "plt.show()"
      ],
      "metadata": {
        "colab": {
          "base_uri": "https://localhost:8080/",
          "height": 181
        },
        "id": "zk2iFWkGlAq5",
        "outputId": "4ed1eea5-21b2-4cfc-af9f-a1b2316ce4bb"
      },
      "execution_count": 74,
      "outputs": [
        {
          "output_type": "display_data",
          "data": {
            "text/plain": [
              "<Figure size 1200x1200 with 8 Axes>"
            ],
            "image/png": "[encoded data removed]"
          },
          "metadata": {}
        }
      ]
    }
  ]
}